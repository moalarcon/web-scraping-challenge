{
 "cells": [
  {
   "cell_type": "code",
   "execution_count": 1,
   "metadata": {},
   "outputs": [],
   "source": [
    "from splinter import Browser\n",
    "from bs4 import BeautifulSoup"
   ]
  },
  {
   "cell_type": "code",
   "execution_count": 8,
   "metadata": {
    "scrolled": true
   },
   "outputs": [],
   "source": [
    "def init_browser():\n",
    "    # @NOTE: Replace the path with your actual path to the chromedriver\n",
    "    executable_path = {\"executable_path\":\"/usr/local/bin/chromedriver\"}\n",
    "    return Browser(\"chrome\", **executable_path, headless=True)"
   ]
  },
  {
   "cell_type": "code",
   "execution_count": 9,
   "metadata": {},
   "outputs": [],
   "source": [
    "def news():\n",
    "    browser = init_browser()\n",
    "    latest_news = {}\n",
    "    \n",
    "    url= \"https://mars.nasa.gov/news/\"\n",
    "    browser.visit(url)\n",
    "    \n",
    "    html = browser.html\n",
    "    soup = BeautifulSoup(html, \"html.parser\")\n",
    "    results = soup.find_all('ul', class_='item_list')\n",
    "    posts = []\n",
    "    \n",
    "    for result in results:\n",
    "            # Identify and return title of post\n",
    "        title = result.find('a', target_='_self').text\n",
    "            # Identify and return date of post\n",
    "        date = result.find('div', class_='list_date').text\n",
    "            # Identify and return description to post\n",
    "        description = result.find('div', class_='article_teaser_body').text\n",
    "        \n",
    "        print(title)\n",
    "        print(date)\n",
    "        print(description)\n",
    "\n",
    "            # Dictionary to be inserted as a MongoDB document\n",
    "        post = {\n",
    "            'title': title,\n",
    "            'date': date,\n",
    "            'about': description\n",
    "            }\n",
    "            \n",
    "        posts.append(post)\n",
    "        \n",
    "    return posts"
   ]
  },
  {
   "cell_type": "code",
   "execution_count": 4,
   "metadata": {},
   "outputs": [],
   "source": [
    "def images():\n",
    "    browser = init_browser()\n",
    "    images = {}\n",
    "    \n",
    "    url= \"https://www.jpl.nasa.gov/spaceimages/?search=&category=Mars\"\n",
    "    browser.visit(url)\n",
    "    \n",
    "    html = browser.html\n",
    "    soup = BeautifulSoup(html, \"html.parser\")\n",
    "    results = soup.find_all('div', class_='carousel_container')\n",
    "    images = []\n",
    "    \n",
    "    for result in results:\n",
    "            # Identify and store featured image link\n",
    "        image_path = result.find('a', class_='button fancybox').get(data-fancybox-href)\n",
    "        featured_image_url= f'https://www.jpl.nasa.gov/{image_path}'\n",
    "            # Dictionary to be inserted as a MongoDB document\n",
    "        image = {\n",
    "            'Featured Image URL': featured_image_url,\n",
    "            }\n",
    "            \n",
    "        images.append(image)\n",
    "        \n",
    "    return images"
   ]
  },
  {
   "cell_type": "code",
   "execution_count": 11,
   "metadata": {},
   "outputs": [],
   "source": [
    "def weather():\n",
    "    browser = init_browser()\n",
    "    latest_news = {}\n",
    "    \n",
    "    url= \"https://twitter.com/marswxreport?lang=en\"\n",
    "    browser.visit(url)\n",
    "    \n",
    "    html = browser.html\n",
    "    soup = BeautifulSoup(html, \"html.parser\")\n",
    "    results = soup.find_all('div', class_='css-1dbjc4n r-my5ep6 r-qklmqi r-1adg33ll')\n",
    "    mars_weather = []\n",
    "    \n",
    "    for result in results:\n",
    "            # Identify and return title of post\n",
    "        tweet = result.find('span', class_='css-901oao css-16my406 r-1qd0xha r-ad9z0x r-bcqeeo r-qvutc0').text\n",
    "            \n",
    "        print(tweet)\n",
    "\n",
    "            # Dictionary to be inserted as a MongoDB document\n",
    "        weather = {\n",
    "            'Weather on Mars': tweet\n",
    "            }\n",
    "            \n",
    "        mars_weather.append(weather)"
   ]
  },
  {
   "cell_type": "code",
   "execution_count": null,
   "metadata": {},
   "outputs": [],
   "source": []
  }
 ],
 "metadata": {
  "kernelspec": {
   "display_name": "Python 3",
   "language": "python",
   "name": "python3"
  },
  "language_info": {
   "codemirror_mode": {
    "name": "ipython",
    "version": 3
   },
   "file_extension": ".py",
   "mimetype": "text/x-python",
   "name": "python",
   "nbconvert_exporter": "python",
   "pygments_lexer": "ipython3",
   "version": "3.7.3"
  }
 },
 "nbformat": 4,
 "nbformat_minor": 2
}

{
 "cells": [
  {
   "cell_type": "code",
   "execution_count": 2,
   "metadata": {},
   "outputs": [],
   "source": [
    "from splinter import Browser\n",
    "from bs4 import BeautifulSoup as bs\n",
    "import numpy as np\n",
    "import pandas as pd\n",
    "from selenium import webdriver\n",
    "import requests as req"
   ]
  },
  {
   "cell_type": "code",
   "execution_count": 3,
   "metadata": {
    "scrolled": true
   },
   "outputs": [],
   "source": [
    "def init_browser():\n",
    "    # @NOTE: Replace the path with your actual path to the chromedriver\n",
    "    executable_path = {\"executable_path\":\"/usr/local/bin/chromedriver\"}\n",
    "    return Browser(\"chrome\", **executable_path, headless=False)"
   ]
  },
  {
   "cell_type": "code",
   "execution_count": 4,
   "metadata": {},
   "outputs": [],
   "source": [
    "def close_browser(browser):\n",
    "    browser.quit()"
   ]
  },
  {
   "cell_type": "code",
   "execution_count": 5,
   "metadata": {},
   "outputs": [],
   "source": [
    "def scrape():\n",
    "## initialize and populate mars dict to hold all scraping results \n",
    "    mars = {}\n",
    "    mars[\"news_data\"] = news()\n",
    "    mars[\"featured_image\"] = images()\n",
    "    mars[\"weather_data\"] = weather()\n",
    "    mars[\"mars_facts\"] = facts()"
   ]
  },
  {
   "cell_type": "markdown",
   "metadata": {},
   "source": [
    "## Scrape Latest Mars News"
   ]
  },
  {
   "cell_type": "code",
   "execution_count": 6,
   "metadata": {},
   "outputs": [
    {
     "name": "stdout",
     "output_type": "stream",
     "text": [
      "raw: [<li class=\"slide\"><div class=\"image_and_description_container\"><a href=\"/news/8588/nine-finalists-chosen-in-nasas-mars-2020-rover-naming-contest/\" target=\"_self\"><div class=\"rollover_description\"><div class=\"rollover_description_inner\">Nine finalists have been chosen in the essay contest for K-12 students across U.S. to name NASA's next Mars rover. Now you can help by voting for your favorite. </div><div class=\"overlay_arrow\"><img alt=\"More\" src=\"/assets/overlay-arrow.png\"/></div></div><div class=\"list_image\"><img alt=\"This illustration depicts NASA's next Mars rover, which launches in 2020.\" src=\"/system/news_items/list_view_images/8588_name20190625-320x240.jpg\"/></div><div class=\"bottom_gradient\"><div><h3>Nine Finalists Chosen in NASA's Mars 2020 Rover Naming Contest</h3></div></div></a><div class=\"list_text\"><div class=\"list_date\">January 21, 2020</div><div class=\"content_title\"><a href=\"/news/8588/nine-finalists-chosen-in-nasas-mars-2020-rover-naming-contest/\" target=\"_self\">Nine Finalists Chosen in NASA's Mars 2020 Rover Naming Contest</a></div><div class=\"article_teaser_body\">Nine finalists have been chosen in the essay contest for K-12 students across U.S. to name NASA's next Mars rover. Now you can help by voting for your favorite. </div></div></div></li>, <li class=\"slide\"><div class=\"image_and_description_container\"><a href=\"/news/8585/nasas-mars-2020-rover-closer-to-getting-its-name/\" target=\"_self\"><div class=\"rollover_description\"><div class=\"rollover_description_inner\">155 students from across the U.S. have been chosen as semifinalists in NASA's essay contest to name the Mars 2020 rover, and see it launch from Cape Canaveral this July.</div><div class=\"overlay_arrow\"><img alt=\"More\" src=\"/assets/overlay-arrow.png\"/></div></div><div class=\"list_image\"><img alt=\"This illustration depicts NASA's next Mars rover, which launches in 2020.\" src=\"/system/news_items/list_view_images/8585_name20190625-320x240.jpg\"/></div><div class=\"bottom_gradient\"><div><h3>NASA's Mars 2020 Rover Closer to Getting Its Name</h3></div></div></a><div class=\"list_text\"><div class=\"list_date\">January 13, 2020</div><div class=\"content_title\"><a href=\"/news/8585/nasas-mars-2020-rover-closer-to-getting-its-name/\" target=\"_self\">NASA's Mars 2020 Rover Closer to Getting Its Name</a></div><div class=\"article_teaser_body\">155 students from across the U.S. have been chosen as semifinalists in NASA's essay contest to name the Mars 2020 rover, and see it launch from Cape Canaveral this July.</div></div></div></li>, <li class=\"slide\"><div class=\"image_and_description_container\"><a href=\"/news/8578/media-get-a-close-up-of-nasas-mars-2020-rover/\" target=\"_self\"><div class=\"rollover_description\"><div class=\"rollover_description_inner\">The clean room at NASA's Jet Propulsion Laboratory was open to the media to see NASA's next Mars explorer before it leaves for Florida in preparation for a summertime launch.</div><div class=\"overlay_arrow\"><img alt=\"More\" src=\"/assets/overlay-arrow.png\"/></div></div><div class=\"list_image\"><img alt=\"Members of the media interview the builders of the Mars 2020 mission inside JPL's clean room.\" src=\"/system/news_items/list_view_images/8578_24741_PIA23586-SAFfloor-MAIN-16_320x240px.jpg\"/></div><div class=\"bottom_gradient\"><div><h3>Media Get a Close-Up of NASA's Mars 2020 Rover</h3></div></div></a><div class=\"list_text\"><div class=\"list_date\">December 27, 2019</div><div class=\"content_title\"><a href=\"/news/8578/media-get-a-close-up-of-nasas-mars-2020-rover/\" target=\"_self\">Media Get a Close-Up of NASA's Mars 2020 Rover</a></div><div class=\"article_teaser_body\">The clean room at NASA's Jet Propulsion Laboratory was open to the media to see NASA's next Mars explorer before it leaves for Florida in preparation for a summertime launch.</div></div></div></li>, <li class=\"slide\"><div class=\"image_and_description_container\"><a href=\"/news/8575/space-history-is-made-in-this-nasa-robot-factory/\" target=\"_self\"><div class=\"rollover_description\"><div class=\"rollover_description_inner\">From rockets to rovers, JPL's Spacecraft Assembly Facility has been at the center of robotic spaceflight. Here's a closer look at what makes it so special.</div><div class=\"overlay_arrow\"><img alt=\"More\" src=\"/assets/overlay-arrow.png\"/></div></div><div class=\"list_image\"><img alt=\"The Mars 2020 rover in the High Bay 1 clean room at JPL.\" src=\"/system/news_items/list_view_images/8575_PIA23519-SAF-unannot-320x240.jpg\"/></div><div class=\"bottom_gradient\"><div><h3>Space History Is Made in This NASA Robot Factory</h3></div></div></a><div class=\"list_text\"><div class=\"list_date\">December 23, 2019</div><div class=\"content_title\"><a href=\"/news/8575/space-history-is-made-in-this-nasa-robot-factory/\" target=\"_self\">Space History Is Made in This NASA Robot Factory</a></div><div class=\"article_teaser_body\">From rockets to rovers, JPL's Spacecraft Assembly Facility has been at the center of robotic spaceflight. Here's a closer look at what makes it so special.</div></div></div></li>, <li class=\"slide\"><div class=\"image_and_description_container\"><a href=\"/news/8573/nasas-mars-2020-rover-completes-its-first-drive/\" target=\"_self\"><div class=\"rollover_description\"><div class=\"rollover_description_inner\">In a 10-plus-hour marathon, the rover steered, turned and drove in 3-foot (1-meter) increments over small ramps.</div><div class=\"overlay_arrow\"><img alt=\"More\" src=\"/assets/overlay-arrow.png\"/></div></div><div class=\"list_image\"><img alt=\"In a clean room at NASA's Jet Propulsion Laboratory in Pasadena, California, engineers observed the first driving test for NASA's Mars 2020 rover on Dec. 17, 2019. \" src=\"/system/news_items/list_view_images/8573_PIA23499-226.jpg\"/></div><div class=\"bottom_gradient\"><div><h3>NASA's Mars 2020 Rover Completes Its First Drive</h3></div></div></a><div class=\"list_text\"><div class=\"list_date\">December 18, 2019</div><div class=\"content_title\"><a href=\"/news/8573/nasas-mars-2020-rover-completes-its-first-drive/\" target=\"_self\">NASA's Mars 2020 Rover Completes Its First Drive</a></div><div class=\"article_teaser_body\">In a 10-plus-hour marathon, the rover steered, turned and drove in 3-foot (1-meter) increments over small ramps.</div></div></div></li>, <li class=\"slide\"><div class=\"image_and_description_container\"><a href=\"/news/8568/nasas-treasure-map-for-water-ice-on-mars/\" target=\"_self\"><div class=\"rollover_description\"><div class=\"rollover_description_inner\">A new study identifies frozen water just below the Martian surface, where astronauts could easily dig it up.</div><div class=\"overlay_arrow\"><img alt=\"More\" src=\"/assets/overlay-arrow.png\"/></div></div><div class=\"list_image\"><img alt=\"\" src=\"/system/news_items/list_view_images/8568_PIA23515_annotated-globe-320x240.gif\"/></div><div class=\"bottom_gradient\"><div><h3>NASA's Treasure Map for Water Ice on Mars</h3></div></div></a><div class=\"list_text\"><div class=\"list_date\">December 10, 2019</div><div class=\"content_title\"><a href=\"/news/8568/nasas-treasure-map-for-water-ice-on-mars/\" target=\"_self\">NASA's Treasure Map for Water Ice on Mars</a></div><div class=\"article_teaser_body\">A new study identifies frozen water just below the Martian surface, where astronauts could easily dig it up.</div></div></div></li>, <li class=\"slide\"><div class=\"image_and_description_container\"><a href=\"/news/8567/two-rovers-to-roll-on-mars-again-curiosity-and-mars-2020/\" target=\"_self\"><div class=\"rollover_description\"><div class=\"rollover_description_inner\">They look like twins. But under the hood, the rover currently exploring the Red Planet and the one launching there this summer have distinct science tools and roles to play.</div><div class=\"overlay_arrow\"><img alt=\"More\" src=\"/assets/overlay-arrow.png\"/></div></div><div class=\"list_image\"><img alt=\"Illustrations of NASA's Curiosity and Mars 2020 rovers. \" src=\"/system/news_items/list_view_images/8567_PIA23517-320x240.jpg\"/></div><div class=\"bottom_gradient\"><div><h3>Two Rovers to Roll on Mars Again: Curiosity and Mars 2020</h3></div></div></a><div class=\"list_text\"><div class=\"list_date\">December 10, 2019</div><div class=\"content_title\"><a href=\"/news/8567/two-rovers-to-roll-on-mars-again-curiosity-and-mars-2020/\" target=\"_self\">Two Rovers to Roll on Mars Again: Curiosity and Mars 2020</a></div><div class=\"article_teaser_body\">They look like twins. But under the hood, the rover currently exploring the Red Planet and the one launching there this summer have distinct science tools and roles to play.</div></div></div></li>, <li class=\"slide\"><div class=\"image_and_description_container\"><a href=\"/news/8561/nasas-briefcase-size-marco-satellite-picks-up-honors/\" target=\"_self\"><div class=\"rollover_description\"><div class=\"rollover_description_inner\">The twin spacecraft, the first of their kind to fly into deep space, earn a Laureate from Aviation Week &amp; Space Technology.</div><div class=\"overlay_arrow\"><img alt=\"More\" src=\"/assets/overlay-arrow.png\"/></div></div><div class=\"list_image\"><img alt=\"Engineer Joel Steinkraus tests the solar arrays on one of the Mars Cube One \" src=\"/system/news_items/list_view_images/8561_MarCO-32x24.jpg\"/></div><div class=\"bottom_gradient\"><div><h3>NASA's Briefcase-Size MarCO Satellite Picks Up Honors</h3></div></div></a><div class=\"list_text\"><div class=\"list_date\">November 27, 2019</div><div class=\"content_title\"><a href=\"/news/8561/nasas-briefcase-size-marco-satellite-picks-up-honors/\" target=\"_self\">NASA's Briefcase-Size MarCO Satellite Picks Up Honors</a></div><div class=\"article_teaser_body\">The twin spacecraft, the first of their kind to fly into deep space, earn a Laureate from Aviation Week &amp; Space Technology.</div></div></div></li>, <li class=\"slide\"><div class=\"image_and_description_container\"><a href=\"/news/8558/global-storms-on-mars-launch-dust-towers-into-the-sky/\" target=\"_self\"><div class=\"rollover_description\"><div class=\"rollover_description_inner\">A Mars Dust Tower Stands Out Dust storms are common on Mars. But every decade or so, something unpredictable happens: a series of runaway storms break out, covering the entire planet in a dusty haze.</div><div class=\"overlay_arrow\"><img alt=\"More\" src=\"/assets/overlay-arrow.png\"/></div></div><div class=\"list_image\"><img alt=\"Dust storms on Mars.\" src=\"/system/news_items/list_view_images/8558_PIA23513-32x24.jpg\"/></div><div class=\"bottom_gradient\"><div><h3>Global Storms on Mars Launch Dust Towers Into the Sky</h3></div></div></a><div class=\"list_text\"><div class=\"list_date\">November 26, 2019</div><div class=\"content_title\"><a href=\"/news/8558/global-storms-on-mars-launch-dust-towers-into-the-sky/\" target=\"_self\">Global Storms on Mars Launch Dust Towers Into the Sky</a></div><div class=\"article_teaser_body\">A Mars Dust Tower Stands Out Dust storms are common on Mars. But every decade or so, something unpredictable happens: a series of runaway storms break out, covering the entire planet in a dusty haze.</div></div></div></li>, <li class=\"slide\"><div class=\"image_and_description_container\"><a href=\"/news/8556/nasa-updates-mars-2020-mission-environmental-review/\" target=\"_self\"><div class=\"rollover_description\"><div class=\"rollover_description_inner\">NASA and the Department of Energy have completed a more detailed risk analysis for the Mars 2020 rover launch from Florida.</div><div class=\"overlay_arrow\"><img alt=\"More\" src=\"/assets/overlay-arrow.png\"/></div></div><div class=\"list_image\"><img alt=\"The electricity needed to operate NASA's Mars 2020 rover (pictured here) is provided by a power system called a Multi-Mission Radioisotope Thermoelectric Generator, or MMRTG.\" src=\"/system/news_items/list_view_images/8556_PIA23305_320x240px.jpg\"/></div><div class=\"bottom_gradient\"><div><h3>NASA Updates Mars 2020 Mission Environmental Review</h3></div></div></a><div class=\"list_text\"><div class=\"list_date\">November 21, 2019</div><div class=\"content_title\"><a href=\"/news/8556/nasa-updates-mars-2020-mission-environmental-review/\" target=\"_self\">NASA Updates Mars 2020 Mission Environmental Review</a></div><div class=\"article_teaser_body\">NASA and the Department of Energy have completed a more detailed risk analysis for the Mars 2020 rover launch from Florida.</div></div></div></li>, <li class=\"slide\"><div class=\"image_and_description_container\"><a href=\"/news/8554/two-of-a-space-kind-apollo-12-and-mars-2020/\" target=\"_self\"><div class=\"rollover_description\"><div class=\"rollover_description_inner\">Apollo 12 and the upcoming Mars 2020 mission may be separated by half a century, but they share several goals unique in the annals of space exploration.</div><div class=\"overlay_arrow\"><img alt=\"More\" src=\"/assets/overlay-arrow.png\"/></div></div><div class=\"list_image\"><img alt=\"(Left) Apollo 12 astronaut Charles “Pete” Conrad Jr. stands beside NASA's Surveyor 3 spacecraft; the lunar module Intrepid can be seen in the distance. Apollo 12 landed on the Moon's Ocean of Storms on Nov. 20, 1969. (Right) Mars 2020 rover, seen here in an artist's concept, will make history's most accurate landing on a planetary body when it lands at Mars' Jezero Crater on Feb. 18, 2021.\" src=\"/system/news_items/list_view_images/8554_PIA23553-320x240.jpg\"/></div><div class=\"bottom_gradient\"><div><h3>Two of a Space Kind: Apollo 12 and Mars 2020</h3></div></div></a><div class=\"list_text\"><div class=\"list_date\">November 20, 2019</div><div class=\"content_title\"><a href=\"/news/8554/two-of-a-space-kind-apollo-12-and-mars-2020/\" target=\"_self\">Two of a Space Kind: Apollo 12 and Mars 2020</a></div><div class=\"article_teaser_body\">Apollo 12 and the upcoming Mars 2020 mission may be separated by half a century, but they share several goals unique in the annals of space exploration.</div></div></div></li>, <li class=\"slide\"><div class=\"image_and_description_container\"><a href=\"/news/8551/mars-scientists-investigate-ancient-life-in-australia/\" target=\"_self\"><div class=\"rollover_description\"><div class=\"rollover_description_inner\">Teams with NASA's Mars 2020 and ESA's ExoMars practiced hunting for fossilized microbial life in the Australian Outback in preparation for their Red Planet missions. </div><div class=\"overlay_arrow\"><img alt=\"More\" src=\"/assets/overlay-arrow.png\"/></div></div><div class=\"list_image\"><img alt=\"NASA and ESA scientists study stromatolites, the oldest confirmed fossilized lifeforms on Earth, in the Pilbara region of North West Australia.\" src=\"/system/news_items/list_view_images/8551_PIA23551-320x240.jpg\"/></div><div class=\"bottom_gradient\"><div><h3>Mars Scientists Investigate Ancient Life in Australia</h3></div></div></a><div class=\"list_text\"><div class=\"list_date\">November 15, 2019</div><div class=\"content_title\"><a href=\"/news/8551/mars-scientists-investigate-ancient-life-in-australia/\" target=\"_self\">Mars Scientists Investigate Ancient Life in Australia</a></div><div class=\"article_teaser_body\">Teams with NASA's Mars 2020 and ESA's ExoMars practiced hunting for fossilized microbial life in the Australian Outback in preparation for their Red Planet missions. </div></div></div></li>, <li class=\"slide\"><div class=\"image_and_description_container\"><a href=\"/news/8549/nasas-mars-2020-will-hunt-for-microscopic-fossils/\" target=\"_self\"><div class=\"rollover_description\"><div class=\"rollover_description_inner\">A new paper identifies a ring of minerals at the rover's landing site that are ideal for fossilizing microbial life.</div><div class=\"overlay_arrow\"><img alt=\"More\" src=\"/assets/overlay-arrow.png\"/></div></div><div class=\"list_image\"><img alt=\"Lighter colors represent higher elevation in this image of Jezero Crater on Mars, the landing site for NASA's Mars 2020 mission.\" src=\"/system/news_items/list_view_images/8549_PIA23511-320x240.jpg\"/></div><div class=\"bottom_gradient\"><div><h3>NASA's Mars 2020 Will Hunt for Microscopic Fossils</h3></div></div></a><div class=\"list_text\"><div class=\"list_date\">November 12, 2019</div><div class=\"content_title\"><a href=\"/news/8549/nasas-mars-2020-will-hunt-for-microscopic-fossils/\" target=\"_self\">NASA's Mars 2020 Will Hunt for Microscopic Fossils</a></div><div class=\"article_teaser_body\">A new paper identifies a ring of minerals at the rover's landing site that are ideal for fossilizing microbial life.</div></div></div></li>, <li class=\"slide\"><div class=\"image_and_description_container\"><a href=\"/news/8548/with-mars-methane-mystery-unsolved-curiosity-serves-scientists-a-new-one-oxygen/\" target=\"_self\"><div class=\"rollover_description\"><div class=\"rollover_description_inner\">For the first time in the history of space exploration, scientists have measured the seasonal changes in the gases that fill the air directly above the surface of Gale Crater on Mars. </div><div class=\"overlay_arrow\"><img alt=\"More\" src=\"/assets/overlay-arrow.png\"/></div></div><div class=\"list_image\"><img alt=\"NASA's Curiosity Mars rover imaged these drifting clouds on May 17, 2019, the 2,410th Martian day, or sol, of the mission, using its black-and-white Navigation Cameras (Navcams).\" src=\"/system/news_items/list_view_images/8548_mars_seasonal_oxygen_gale_crater-320x240.jpg\"/></div><div class=\"bottom_gradient\"><div><h3>With Mars Methane Mystery Unsolved, Curiosity Serves Scientists a New One: Oxygen</h3></div></div></a><div class=\"list_text\"><div class=\"list_date\">November 12, 2019</div><div class=\"content_title\"><a href=\"/news/8548/with-mars-methane-mystery-unsolved-curiosity-serves-scientists-a-new-one-oxygen/\" target=\"_self\">With Mars Methane Mystery Unsolved, Curiosity Serves Scientists a New One: Oxygen</a></div><div class=\"article_teaser_body\">For the first time in the history of space exploration, scientists have measured the seasonal changes in the gases that fill the air directly above the surface of Gale Crater on Mars. </div></div></div></li>, <li class=\"slide\"><div class=\"image_and_description_container\"><a href=\"/news/8545/nasas-mars-2020-heads-into-the-test-chamber/\" target=\"_self\"><div class=\"rollover_description\"><div class=\"rollover_description_inner\">In this time-lapse video taken at JPL, engineers move the Mars 2020 rover into a large vacuum chamber for testing in Mars-like environmental conditions.</div><div class=\"overlay_arrow\"><img alt=\"More\" src=\"/assets/overlay-arrow.png\"/></div></div><div class=\"list_image\"><img alt=\"In this time-lapse video taken at JPL, engineers move the Mars 2020 rover into a large vacuum chamber for testing in Mars-like environmental conditions.\" src=\"/system/news_items/list_view_images/8545_24679_PIA23470-1041_320x240px.jpg\"/></div><div class=\"bottom_gradient\"><div><h3>NASA's Mars 2020 Heads Into the Test Chamber</h3></div></div></a><div class=\"list_text\"><div class=\"list_date\">November  7, 2019</div><div class=\"content_title\"><a href=\"/news/8545/nasas-mars-2020-heads-into-the-test-chamber/\" target=\"_self\">NASA's Mars 2020 Heads Into the Test Chamber</a></div><div class=\"article_teaser_body\">In this time-lapse video taken at JPL, engineers move the Mars 2020 rover into a large vacuum chamber for testing in Mars-like environmental conditions.</div></div></div></li>, <li class=\"slide\"><div class=\"image_and_description_container\"><a href=\"/news/8544/screening-soon-the-pathfinders-trains-lens-on-mars/\" target=\"_self\"><div class=\"rollover_description\"><div class=\"rollover_description_inner\">With the Mars 2020 mission ramping up, the documentary — the first of four about past JPL missions to the Red Planet to be shown at Caltech — tells a gripping backstory.</div><div class=\"overlay_arrow\"><img alt=\"More\" src=\"/assets/overlay-arrow.png\"/></div></div><div class=\"list_image\"><img alt=\"An artist's rendering of Mars Pathfinder, which consisted of a lander and the first-ever robotic rover on the surface of the Red Planet. The documentary &quot;The Pathfinders&quot; tells the story behind the mission. \" src=\"/system/news_items/list_view_images/8544_Pathfinder-Background-320x240.jpg\"/></div><div class=\"bottom_gradient\"><div><h3>Screening Soon: 'The Pathfinders' Trains Lens on Mars</h3></div></div></a><div class=\"list_text\"><div class=\"list_date\">November  7, 2019</div><div class=\"content_title\"><a href=\"/news/8544/screening-soon-the-pathfinders-trains-lens-on-mars/\" target=\"_self\">Screening Soon: 'The Pathfinders' Trains Lens on Mars</a></div><div class=\"article_teaser_body\">With the Mars 2020 mission ramping up, the documentary — the first of four about past JPL missions to the Red Planet to be shown at Caltech — tells a gripping backstory.</div></div></div></li>, <li class=\"slide\"><div class=\"image_and_description_container\"><a href=\"/news/8529/insights-mole-team-peers-into-the-pit/\" target=\"_self\"><div class=\"rollover_description\"><div class=\"rollover_description_inner\">Efforts to save the heat probe continue.</div><div class=\"overlay_arrow\"><img alt=\"More\" src=\"/assets/overlay-arrow.png\"/></div></div><div class=\"list_image\"><img alt=\"The shadow of NASA InSight's robotic arm moves over its heat probe, or &quot;mole,&quot; on Nov. 3, 2019, the 333rd Martian day, or sol, of the mission.\" src=\"/system/news_items/list_view_images/8529_PIA23512-226.gif\"/></div><div class=\"bottom_gradient\"><div><h3>InSight's 'Mole' Team Peers into the Pit</h3></div></div></a><div class=\"list_text\"><div class=\"list_date\">November  6, 2019</div><div class=\"content_title\"><a href=\"/news/8529/insights-mole-team-peers-into-the-pit/\" target=\"_self\">InSight's 'Mole' Team Peers into the Pit</a></div><div class=\"article_teaser_body\">Efforts to save the heat probe continue.</div></div></div></li>, <li class=\"slide\"><div class=\"image_and_description_container\"><a href=\"/news/8444/common-questions-about-insights-mole/\" target=\"_self\"><div class=\"rollover_description\"><div class=\"rollover_description_inner\">There's a new plan to get InSight's \"mole\" moving again. The following Q&amp;As with two members of the team answer some of the most common questions about the burrowing device, part of a science instrument called the Heat Flow and Physical Properties Package (HP3).</div><div class=\"overlay_arrow\"><img alt=\"More\" src=\"/assets/overlay-arrow.png\"/></div></div><div class=\"list_image\"><img alt=\"The support structure of the Heat Flow and Physical Properties Package (HP3) instrument moved slightly during hammering, as indicated by the circular &quot;footprints&quot; around the instrument's footpads. \" src=\"/system/news_items/list_view_images/8444_PIA23271-320x240.jpg\"/></div><div class=\"bottom_gradient\"><div><h3>Common Questions about InSight's 'Mole'</h3></div></div></a><div class=\"list_text\"><div class=\"list_date\">November  6, 2019</div><div class=\"content_title\"><a href=\"/news/8444/common-questions-about-insights-mole/\" target=\"_self\">Common Questions about InSight's 'Mole'</a></div><div class=\"article_teaser_body\">There's a new plan to get InSight's \"mole\" moving again. The following Q&amp;As with two members of the team answer some of the most common questions about the burrowing device, part of a science instrument called the Heat Flow and Physical Properties Package (HP3).</div></div></div></li>, <li class=\"slide\"><div class=\"image_and_description_container\"><a href=\"/news/8537/mars-2020-stands-on-its-own-six-wheels/\" target=\"_self\"><div class=\"rollover_description\"><div class=\"rollover_description_inner\">In time-lapse video, taken at JPL, captures the first time NASA's Mars 2020 rover carries its full weight on its legs and wheels.</div><div class=\"overlay_arrow\"><img alt=\"More\" src=\"/assets/overlay-arrow.png\"/></div></div><div class=\"list_image\"><img alt=\"In time-lapse video, taken at JPL, captures the first time NASA's Mars 2020 rover carries its full weight on its legs and wheels.\" src=\"/system/news_items/list_view_images/8537_PIA23468-16_320x240px.jpg\"/></div><div class=\"bottom_gradient\"><div><h3>Mars 2020 Stands on Its Own Six Wheels</h3></div></div></a><div class=\"list_text\"><div class=\"list_date\">October 24, 2019</div><div class=\"content_title\"><a href=\"/news/8537/mars-2020-stands-on-its-own-six-wheels/\" target=\"_self\">Mars 2020 Stands on Its Own Six Wheels</a></div><div class=\"article_teaser_body\">In time-lapse video, taken at JPL, captures the first time NASA's Mars 2020 rover carries its full weight on its legs and wheels.</div></div></div></li>, <li class=\"slide\"><div class=\"image_and_description_container\"><a href=\"/news/8536/new-selfie-shows-curiosity-the-mars-chemist/\" target=\"_self\"><div class=\"rollover_description\"><div class=\"rollover_description_inner\">The NASA rover performed a special chemistry experiment at the location captured in its newest self-portrait.</div><div class=\"overlay_arrow\"><img alt=\"More\" src=\"/assets/overlay-arrow.png\"/></div></div><div class=\"list_image\"><img alt=\"NASA's Curiosity rover took this selfie on Oct. 11, 2019, the 2,553rd Martian day, or sol, of its mission.\" src=\"/system/news_items/list_view_images/8536_Mars_chemist_320x240px.jpg\"/></div><div class=\"bottom_gradient\"><div><h3>New Selfie Shows Curiosity, the Mars Chemist</h3></div></div></a><div class=\"list_text\"><div class=\"list_date\">October 24, 2019</div><div class=\"content_title\"><a href=\"/news/8536/new-selfie-shows-curiosity-the-mars-chemist/\" target=\"_self\">New Selfie Shows Curiosity, the Mars Chemist</a></div><div class=\"article_teaser_body\">The NASA rover performed a special chemistry experiment at the location captured in its newest self-portrait.</div></div></div></li>, <li class=\"slide\"><div class=\"image_and_description_container\"><a href=\"/news/8534/naming-a-nasa-mars-rover-can-change-your-life/\" target=\"_self\"><div class=\"rollover_description\"><div class=\"rollover_description_inner\">Want to name the robotic scientist NASA is sending to Mars in 2020? The student who named Curiosity — the rover currently exploring Mars — will tell you this is an opportunity worth taking.</div><div class=\"overlay_arrow\"><img alt=\"More\" src=\"/assets/overlay-arrow.png\"/></div></div><div class=\"list_image\"><img alt=\"Image of Clara Ma, then and now.\" src=\"/system/news_items/list_view_images/8534_20191022_ClaraMa_compare-320x240.jpg\"/></div><div class=\"bottom_gradient\"><div><h3>Naming a NASA Mars Rover Can Change Your Life</h3></div></div></a><div class=\"list_text\"><div class=\"list_date\">October 22, 2019</div><div class=\"content_title\"><a href=\"/news/8534/naming-a-nasa-mars-rover-can-change-your-life/\" target=\"_self\">Naming a NASA Mars Rover Can Change Your Life</a></div><div class=\"article_teaser_body\">Want to name the robotic scientist NASA is sending to Mars in 2020? The student who named Curiosity — the rover currently exploring Mars — will tell you this is an opportunity worth taking.</div></div></div></li>, <li class=\"slide\"><div class=\"image_and_description_container\"><a href=\"/news/8531/mars-2020-unwrapped-and-ready-for-more-testing/\" target=\"_self\"><div class=\"rollover_description\"><div class=\"rollover_description_inner\">In time-lapse video, bunny-suited engineers remove the inner layer of protective foil on NASA's Mars 2020 rover after it was relocated for testing.</div><div class=\"overlay_arrow\"><img alt=\"More\" src=\"/assets/overlay-arrow.png\"/></div></div><div class=\"list_image\"><img alt=\"Mars 2020 Unwrapped and Ready for Testing: In time-lapse video bunny-suited engineers remove the inner layer of protective foil on NASA's Mars 2020 rover after it was moved to a different building at JPL for testing.\" src=\"/system/news_items/list_view_images/8531_PIA23467-320x240.gif\"/></div><div class=\"bottom_gradient\"><div><h3>Mars 2020 Unwrapped and Ready for More Testing</h3></div></div></a><div class=\"list_text\"><div class=\"list_date\">October 18, 2019</div><div class=\"content_title\"><a href=\"/news/8531/mars-2020-unwrapped-and-ready-for-more-testing/\" target=\"_self\">Mars 2020 Unwrapped and Ready for More Testing</a></div><div class=\"article_teaser_body\">In time-lapse video, bunny-suited engineers remove the inner layer of protective foil on NASA's Mars 2020 rover after it was relocated for testing.</div></div></div></li>, <li class=\"slide\"><div class=\"image_and_description_container\"><a href=\"/news/8528/hirise-views-nasas-insight-and-curiosity-on-mars/\" target=\"_self\"><div class=\"rollover_description\"><div class=\"rollover_description_inner\">New images taken from space offer the clearest orbital glimpse yet of InSight as well as a view of Curiosity rolling along.</div><div class=\"overlay_arrow\"><img alt=\"More\" src=\"/assets/overlay-arrow.png\"/></div></div><div class=\"list_image\"><img alt=\"The HiRISE camera on NASA's Mars Reconnaissance Orbiter got its best view yet of the InSight lander on September 23, 2019\" src=\"/system/news_items/list_view_images/8528_PIA23376-320x240.jpg\"/></div><div class=\"bottom_gradient\"><div><h3>HiRISE Views NASA's InSight and Curiosity on Mars</h3></div></div></a><div class=\"list_text\"><div class=\"list_date\">October 16, 2019</div><div class=\"content_title\"><a href=\"/news/8528/hirise-views-nasas-insight-and-curiosity-on-mars/\" target=\"_self\">HiRISE Views NASA's InSight and Curiosity on Mars</a></div><div class=\"article_teaser_body\">New images taken from space offer the clearest orbital glimpse yet of InSight as well as a view of Curiosity rolling along.</div></div></div></li>, <li class=\"slide\"><div class=\"image_and_description_container\"><a href=\"/news/8522/nasas-curiosity-rover-finds-an-ancient-oasis-on-mars/\" target=\"_self\"><div class=\"rollover_description\"><div class=\"rollover_description_inner\">New evidence suggests salty, shallow ponds once dotted a Martian crater — a sign of the planet's drying climate.</div><div class=\"overlay_arrow\"><img alt=\"More\" src=\"/assets/overlay-arrow.png\"/></div></div><div class=\"list_image\"><img alt='The network of cracks in this Martian rock slab called \"Old Soaker\" may have formed from the drying of a mud layer more than 3 billion years ago. ' src=\"/system/news_items/list_view_images/8522_PIA21261-320x240.jpg\"/></div><div class=\"bottom_gradient\"><div><h3>NASA's Curiosity Rover Finds an Ancient Oasis on Mars</h3></div></div></a><div class=\"list_text\"><div class=\"list_date\">October  7, 2019</div><div class=\"content_title\"><a href=\"/news/8522/nasas-curiosity-rover-finds-an-ancient-oasis-on-mars/\" target=\"_self\">NASA's Curiosity Rover Finds an Ancient Oasis on Mars</a></div><div class=\"article_teaser_body\">New evidence suggests salty, shallow ponds once dotted a Martian crater — a sign of the planet's drying climate.</div></div></div></li>, <li class=\"slide\"><div class=\"image_and_description_container\"><a href=\"/news/8520/nasas-mars-2020-rover-tests-descent-stage-separation/\" target=\"_self\"><div class=\"rollover_description\"><div class=\"rollover_description_inner\">A crane lifts the rocket-powered descent stage away from NASA's Mars 2020 rover after technicians tested the pyrotechnic charges that separate the two spacecraft.</div><div class=\"overlay_arrow\"><img alt=\"More\" src=\"/assets/overlay-arrow.png\"/></div></div><div class=\"list_image\"><img alt=\"Engineers and technicians working on the Mars 2020 spacecraft, look on as a crane lifts the rocket-powered descent stage away from the rover after a test. \" src=\"/system/news_items/list_view_images/8520_PIA23466-226.jpg\"/></div><div class=\"bottom_gradient\"><div><h3>NASA's Mars 2020 Rover Tests Descent-Stage Separation</h3></div></div></a><div class=\"list_text\"><div class=\"list_date\">October  4, 2019</div><div class=\"content_title\"><a href=\"/news/8520/nasas-mars-2020-rover-tests-descent-stage-separation/\" target=\"_self\">NASA's Mars 2020 Rover Tests Descent-Stage Separation</a></div><div class=\"article_teaser_body\">A crane lifts the rocket-powered descent stage away from NASA's Mars 2020 rover after technicians tested the pyrotechnic charges that separate the two spacecraft.</div></div></div></li>, <li class=\"slide\"><div class=\"image_and_description_container\"><a href=\"/news/8518/nasas-push-to-save-the-mars-insight-landers-heat-probe/\" target=\"_self\"><div class=\"rollover_description\"><div class=\"rollover_description_inner\">The scoop on the end of the spacecraft's robotic arm will be used to 'pin' the mole against the wall of its hole.</div><div class=\"overlay_arrow\"><img alt=\"More\" src=\"/assets/overlay-arrow.png\"/></div></div><div class=\"list_image\"><img alt=\"InSight's robotic arm will use its scoop to pin the spacecraft's heat probe, or &quot;mole,&quot; against the wall of its hole.\" src=\"/system/news_items/list_view_images/8518_PIA23373-320x240.gif\"/></div><div class=\"bottom_gradient\"><div><h3>NASA's Push to Save the Mars InSight Lander's Heat Probe</h3></div></div></a><div class=\"list_text\"><div class=\"list_date\">October  3, 2019</div><div class=\"content_title\"><a href=\"/news/8518/nasas-push-to-save-the-mars-insight-landers-heat-probe/\" target=\"_self\">NASA's Push to Save the Mars InSight Lander's Heat Probe</a></div><div class=\"article_teaser_body\">The scoop on the end of the spacecraft's robotic arm will be used to 'pin' the mole against the wall of its hole.</div></div></div></li>, <li class=\"slide\"><div class=\"image_and_description_container\"><a href=\"/news/8517/nasas-insight-hears-peculiar-sounds-on-mars/\" target=\"_self\"><div class=\"rollover_description\"><div class=\"rollover_description_inner\">Listen to the marsquakes and other, less-expected sounds that the Mars lander has been detecting.</div><div class=\"overlay_arrow\"><img alt=\"More\" src=\"/assets/overlay-arrow.png\"/></div></div><div class=\"list_image\"><img alt=\"Clouds drift over the dome-covered seismometer, known as SEIS, belonging to NASA's InSight lander, on Mars.\" src=\"/system/news_items/list_view_images/8517_PIA23180-226.gif\"/></div><div class=\"bottom_gradient\"><div><h3>NASA's InSight 'Hears' Peculiar Sounds on Mars</h3></div></div></a><div class=\"list_text\"><div class=\"list_date\">October  1, 2019</div><div class=\"content_title\"><a href=\"/news/8517/nasas-insight-hears-peculiar-sounds-on-mars/\" target=\"_self\">NASA's InSight 'Hears' Peculiar Sounds on Mars</a></div><div class=\"article_teaser_body\">Listen to the marsquakes and other, less-expected sounds that the Mars lander has been detecting.</div></div></div></li>, <li class=\"slide\"><div class=\"image_and_description_container\"><a href=\"/news/8512/nasa-mars-mission-connects-with-bosnian-and-herzegovinian-town/\" target=\"_self\"><div class=\"rollover_description\"><div class=\"rollover_description_inner\">A letter from NASA was presented to the mayor of Jezero, Bosnia-Herzegovina, honoring the connection between the town and Jezero Crater, the Mars 2020 rover landing site.</div><div class=\"overlay_arrow\"><img alt=\"More\" src=\"/assets/overlay-arrow.png\"/></div></div><div class=\"list_image\"><img alt=\"In this picture, Ružičić snaps a selfie of the ambassador with local schooldren. \" src=\"/system/news_items/list_view_images/8512_PIA23463-320x240.jpg\"/></div><div class=\"bottom_gradient\"><div><h3>NASA Mars Mission Connects With Bosnian and Herzegovinian Town</h3></div></div></a><div class=\"list_text\"><div class=\"list_date\">September 23, 2019</div><div class=\"content_title\"><a href=\"/news/8512/nasa-mars-mission-connects-with-bosnian-and-herzegovinian-town/\" target=\"_self\">NASA Mars Mission Connects With Bosnian and Herzegovinian Town</a></div><div class=\"article_teaser_body\">A letter from NASA was presented to the mayor of Jezero, Bosnia-Herzegovina, honoring the connection between the town and Jezero Crater, the Mars 2020 rover landing site.</div></div></div></li>, <li class=\"slide\"><div class=\"image_and_description_container\"><a href=\"/news/8511/deadline-closing-for-names-to-fly-on-nasas-next-mars-rover/\" target=\"_self\"><div class=\"rollover_description\"><div class=\"rollover_description_inner\">You have until Sept. 30 to send your names to Mars aboard the Mars 2020 rover. </div><div class=\"overlay_arrow\"><img alt=\"More\" src=\"/assets/overlay-arrow.png\"/></div></div><div class=\"list_image\"><img alt='The actor Brad Pitt (right) shows off his \"boarding pass\" for Mars with Jennifer Trosper (left), the Mars 2020 project systems engineer, at JPL on Sept. 6, 2019. ' src=\"/system/news_items/list_view_images/8511_PIA23279-226.jpg\"/></div><div class=\"bottom_gradient\"><div><h3>Deadline Closing for Names to Fly on NASA's Next Mars Rover</h3></div></div></a><div class=\"list_text\"><div class=\"list_date\">September 18, 2019</div><div class=\"content_title\"><a href=\"/news/8511/deadline-closing-for-names-to-fly-on-nasas-next-mars-rover/\" target=\"_self\">Deadline Closing for Names to Fly on NASA's Next Mars Rover</a></div><div class=\"article_teaser_body\">You have until Sept. 30 to send your names to Mars aboard the Mars 2020 rover. </div></div></div></li>, <li class=\"slide\"><div class=\"image_and_description_container\"><a href=\"/news/8510/nasa-wins-two-emmy-awards-for-interactive-mission-coverage/\" target=\"_self\"><div class=\"rollover_description\"><div class=\"rollover_description_inner\">NASA-JPL's coverage of the Mars InSight landing earns one of the two wins, making this the NASA center's second Emmy.</div><div class=\"overlay_arrow\"><img alt=\"More\" src=\"/assets/overlay-arrow.png\"/></div></div><div class=\"list_image\"><img alt=\"JPL team members with JPL deputy director Larry James at the 2019 Creative Arts Emmy Awards on Sunday, Sept. 15, 2019\" src=\"/system/news_items/list_view_images/8510_emmy20190916-32x24.jpg\"/></div><div class=\"bottom_gradient\"><div><h3>NASA Wins Two Emmy Awards for Interactive Mission Coverage</h3></div></div></a><div class=\"list_text\"><div class=\"list_date\">September 16, 2019</div><div class=\"content_title\"><a href=\"/news/8510/nasa-wins-two-emmy-awards-for-interactive-mission-coverage/\" target=\"_self\">NASA Wins Two Emmy Awards for Interactive Mission Coverage</a></div><div class=\"article_teaser_body\">NASA-JPL's coverage of the Mars InSight landing earns one of the two wins, making this the NASA center's second Emmy.</div></div></div></li>, <li class=\"slide\"><div class=\"image_and_description_container\"><a href=\"/news/8509/nasas-mars-2020-comes-full-circle/\" target=\"_self\"><div class=\"rollover_description\"><div class=\"rollover_description_inner\">Aiming to pinpoint the Martian vehicle's center of gravity, engineers took NASA's 2,300-pound Mars 2020 rover for a spin in the clean room at JPL. </div><div class=\"overlay_arrow\"><img alt=\"More\" src=\"/assets/overlay-arrow.png\"/></div></div><div class=\"list_image\"><img alt=\"In search of its center of gravity, engineers took NASA's 2,300-pound Mars 2020 for a clean room spin on Aug. 29, 2019.\" src=\"/system/news_items/list_view_images/8509_PIA23461-226.jpg\"/></div><div class=\"bottom_gradient\"><div><h3>NASA's Mars 2020 Comes Full Circle</h3></div></div></a><div class=\"list_text\"><div class=\"list_date\">September 12, 2019</div><div class=\"content_title\"><a href=\"/news/8509/nasas-mars-2020-comes-full-circle/\" target=\"_self\">NASA's Mars 2020 Comes Full Circle</a></div><div class=\"article_teaser_body\">Aiming to pinpoint the Martian vehicle's center of gravity, engineers took NASA's 2,300-pound Mars 2020 rover for a spin in the clean room at JPL. </div></div></div></li>, <li class=\"slide\"><div class=\"image_and_description_container\"><a href=\"/news/8508/nasa-invites-students-to-name-mars-2020-rover/\" target=\"_self\"><div class=\"rollover_description\"><div class=\"rollover_description_inner\">Through Nov. 1, K-12 students in the U.S. are encouraged to enter an essay contest to name NASA's next Mars rover.</div><div class=\"overlay_arrow\"><img alt=\"More\" src=\"/assets/overlay-arrow.png\"/></div></div><div class=\"list_image\"><img alt=\"The Mars 2020 Rover is preparing to launch to the Red Planet in July 2020, but it doesn't have a name yet. We're asking K-12 students across the United States to send in essays with their best name ideas by Nov. 1, 2019. \" src=\"/system/news_items/list_view_images/8508_Name_A_unannotated_MAIN-th.jpg\"/></div><div class=\"bottom_gradient\"><div><h3>NASA Invites Students to Name Mars 2020 Rover</h3></div></div></a><div class=\"list_text\"><div class=\"list_date\">August 28, 2019</div><div class=\"content_title\"><a href=\"/news/8508/nasa-invites-students-to-name-mars-2020-rover/\" target=\"_self\">NASA Invites Students to Name Mars 2020 Rover</a></div><div class=\"article_teaser_body\">Through Nov. 1, K-12 students in the U.S. are encouraged to enter an essay contest to name NASA's next Mars rover.</div></div></div></li>, <li class=\"slide\"><div class=\"image_and_description_container\"><a href=\"/news/8507/nasas-mars-helicopter-attached-to-mars-2020-rover/\" target=\"_self\"><div class=\"rollover_description\"><div class=\"rollover_description_inner\">The helicopter will be first aircraft to perform flight tests on another planet.</div><div class=\"overlay_arrow\"><img alt=\"More\" src=\"/assets/overlay-arrow.png\"/></div></div><div class=\"list_image\"><img alt=\"Engineers attached NASA's Mars Helicopter (circled in red) to the belly of the Mars 2020 rover.\" src=\"/system/news_items/list_view_images/8507_PIA23152-320x240.jpg\"/></div><div class=\"bottom_gradient\"><div><h3>NASA's Mars Helicopter Attached to Mars 2020 Rover </h3></div></div></a><div class=\"list_text\"><div class=\"list_date\">August 28, 2019</div><div class=\"content_title\"><a href=\"/news/8507/nasas-mars-helicopter-attached-to-mars-2020-rover/\" target=\"_self\">NASA's Mars Helicopter Attached to Mars 2020 Rover </a></div><div class=\"article_teaser_body\">The helicopter will be first aircraft to perform flight tests on another planet.</div></div></div></li>, <li class=\"slide\"><div class=\"image_and_description_container\"><a href=\"/news/8506/whats-mars-solar-conjunction-and-why-does-it-matter/\" target=\"_self\"><div class=\"rollover_description\"><div class=\"rollover_description_inner\">NASA spacecraft at Mars are going to be on their own for a few weeks when the Sun comes between Mars and Earth, interrupting communications.</div><div class=\"overlay_arrow\"><img alt=\"More\" src=\"/assets/overlay-arrow.png\"/></div></div><div class=\"list_image\"><img alt=\"This animation illustrates Mars solar conjunction, a period when Mars is on the opposite side of the Sun from Earth. During this time, the Sun can interrupt radio transmissions to spacecraft on and around the Red Planet.\" src=\"/system/news_items/list_view_images/8506_mars-solar-conjunction-th.jpg\"/></div><div class=\"bottom_gradient\"><div><h3>What's Mars Solar Conjunction, and Why Does It Matter?</h3></div></div></a><div class=\"list_text\"><div class=\"list_date\">August 23, 2019</div><div class=\"content_title\"><a href=\"/news/8506/whats-mars-solar-conjunction-and-why-does-it-matter/\" target=\"_self\">What's Mars Solar Conjunction, and Why Does It Matter?</a></div><div class=\"article_teaser_body\">NASA spacecraft at Mars are going to be on their own for a few weeks when the Sun comes between Mars and Earth, interrupting communications.</div></div></div></li>, <li class=\"slide\"><div class=\"image_and_description_container\"><a href=\"/news/8505/scientists-explore-outback-as-testbed-for-mars/\" target=\"_self\"><div class=\"rollover_description\"><div class=\"rollover_description_inner\">Australia provides a great place for NASA's Mars 2020 and the ESA-Roscosmos ExoMars scientists to hone techniques in preparation for searching for signs ancient life on Mars.</div><div class=\"overlay_arrow\"><img alt=\"More\" src=\"/assets/overlay-arrow.png\"/></div></div><div class=\"list_image\"><img alt=\"\" src=\"/system/news_items/list_view_images/8505_PIA23275-th.jpg\"/></div><div class=\"bottom_gradient\"><div><h3>Scientists Explore Outback as Testbed for Mars </h3></div></div></a><div class=\"list_text\"><div class=\"list_date\">August 23, 2019</div><div class=\"content_title\"><a href=\"/news/8505/scientists-explore-outback-as-testbed-for-mars/\" target=\"_self\">Scientists Explore Outback as Testbed for Mars </a></div><div class=\"article_teaser_body\">Australia provides a great place for NASA's Mars 2020 and the ESA-Roscosmos ExoMars scientists to hone techniques in preparation for searching for signs ancient life on Mars.</div></div></div></li>, <li class=\"slide\"><div class=\"image_and_description_container\"><a href=\"/news/8504/nasa-jpl-names-rolling-stones-rock-on-mars/\" target=\"_self\"><div class=\"rollover_description\"><div class=\"rollover_description_inner\">NASA's Mars InSight mission honored one of the biggest bands of all time at Pasadena concert.</div><div class=\"overlay_arrow\"><img alt=\"More\" src=\"/assets/overlay-arrow.png\"/></div></div><div class=\"list_image\"><img alt=\"This animation illustrates NASA's InSight lander touching down on Mars, its thrusters setting a rock in motion. A little bigger than a golf ball, the rock was later nicknamed &quot;Rolling Stones Rock&quot; by the InSight team in honor of The Rolling Stones.\" src=\"/system/news_items/list_view_images/8504_insight20190822-226.gif\"/></div><div class=\"bottom_gradient\"><div><h3>NASA-JPL Names 'Rolling Stones Rock' on Mars</h3></div></div></a><div class=\"list_text\"><div class=\"list_date\">August 22, 2019</div><div class=\"content_title\"><a href=\"/news/8504/nasa-jpl-names-rolling-stones-rock-on-mars/\" target=\"_self\">NASA-JPL Names 'Rolling Stones Rock' on Mars</a></div><div class=\"article_teaser_body\">NASA's Mars InSight mission honored one of the biggest bands of all time at Pasadena concert.</div></div></div></li>, <li class=\"slide\"><div class=\"image_and_description_container\"><a href=\"/news/8503/robotic-toolkit-added-to-nasas-mars-2020-rover/\" target=\"_self\"><div class=\"rollover_description\"><div class=\"rollover_description_inner\">The bit carousel, which lies at the heart of the rover's Sample Caching System, is now aboard NASA's newest rover. </div><div class=\"overlay_arrow\"><img alt=\"More\" src=\"/assets/overlay-arrow.png\"/></div></div><div class=\"list_image\"><img alt=\"The heart of sampling and caching subsystem of NASA’s Mars 2020 mission -  is attached to the front end of the rover.\" src=\"/system/news_items/list_view_images/8503_PIA23319-MAIN-226.jpg\"/></div><div class=\"bottom_gradient\"><div><h3>Robotic Toolkit Added to NASA's Mars 2020 Rover</h3></div></div></a><div class=\"list_text\"><div class=\"list_date\">August 15, 2019</div><div class=\"content_title\"><a href=\"/news/8503/robotic-toolkit-added-to-nasas-mars-2020-rover/\" target=\"_self\">Robotic Toolkit Added to NASA's Mars 2020 Rover</a></div><div class=\"article_teaser_body\">The bit carousel, which lies at the heart of the rover's Sample Caching System, is now aboard NASA's newest rover. </div></div></div></li>, <li class=\"slide\"><div class=\"image_and_description_container\"><a href=\"/news/8502/space-samples-link-nasas-apollo-11-and-mars-2020/\" target=\"_self\"><div class=\"rollover_description\"><div class=\"rollover_description_inner\">While separated by half a century, NASA's Apollo 11 and Mars 2020 missions share the same historic goal: returning samples to Earth.</div><div class=\"overlay_arrow\"><img alt=\"More\" src=\"/assets/overlay-arrow.png\"/></div></div><div class=\"list_image\"><img alt=\"From left to right: Apollo 11 astronaut Buzz Aldrin stands on the Moon; 47 pounds (21.5 kilograms) of samples were brought back to Earth from that mission; the Mars 2020 rover, seen here in an artist's concept rover, will be taking the first planetary samples at Jezero Crater, Mars (on right). \" src=\"/system/news_items/list_view_images/8502_apollo-mars2020-20190809-th.jpg\"/></div><div class=\"bottom_gradient\"><div><h3>Space Samples Link NASA's Apollo 11 and Mars 2020</h3></div></div></a><div class=\"list_text\"><div class=\"list_date\">August 13, 2019</div><div class=\"content_title\"><a href=\"/news/8502/space-samples-link-nasas-apollo-11-and-mars-2020/\" target=\"_self\">Space Samples Link NASA's Apollo 11 and Mars 2020</a></div><div class=\"article_teaser_body\">While separated by half a century, NASA's Apollo 11 and Mars 2020 missions share the same historic goal: returning samples to Earth.</div></div></div></li>, <li class=\"slide\"><div class=\"image_and_description_container\"><a href=\"/news/8501/small-satellite-mission-of-the-year/\" target=\"_self\"><div class=\"rollover_description\"><div class=\"rollover_description_inner\">The first interplanetary CubeSats were recognized by the engineering community with the 2019 Small Satellite Mission of the Year award.</div><div class=\"overlay_arrow\"><img alt=\"More\" src=\"/assets/overlay-arrow.png\"/></div></div><div class=\"list_image\"><img alt=\"An artist's rendering of the twin Mars Cube One (MarCO) spacecraft as they fly through deep space.\" src=\"/system/news_items/list_view_images/8501_21555_PIA22314_320.jpg\"/></div><div class=\"bottom_gradient\"><div><h3>Small Satellite Mission of the Year</h3></div></div></a><div class=\"list_text\"><div class=\"list_date\">August  9, 2019</div><div class=\"content_title\"><a href=\"/news/8501/small-satellite-mission-of-the-year/\" target=\"_self\">Small Satellite Mission of the Year</a></div><div class=\"article_teaser_body\">The first interplanetary CubeSats were recognized by the engineering community with the 2019 Small Satellite Mission of the Year award.</div></div></div></li>, <li class=\"slide\"><div class=\"image_and_description_container\"><a href=\"/news/8499/nasa-optometrists-verify-mars-2020-rovers-2020-vision/\" target=\"_self\"><div class=\"rollover_description\"><div class=\"rollover_description_inner\">Mars 2020 rover underwent an eye exam after several cameras were installed on the rover.</div><div class=\"overlay_arrow\"><img alt=\"More\" src=\"/assets/overlay-arrow.png\"/></div></div><div class=\"list_image\"><img alt=\"In this image, engineers test cameras on the top of the Mars 2020 rover’s mast and front chassis. The image was taken on July 23, 2019, in the Spacecraft Assembly Facility's High Bay 1 at NASA's Jet Propulsion Laboratory in Pasadena, California.\" src=\"/system/news_items/list_view_images/8499_PIA23314-th.jpg\"/></div><div class=\"bottom_gradient\"><div><h3>NASA 'Optometrists' Verify Mars 2020 Rover's 20/20 Vision</h3></div></div></a><div class=\"list_text\"><div class=\"list_date\">August  5, 2019</div><div class=\"content_title\"><a href=\"/news/8499/nasa-optometrists-verify-mars-2020-rovers-2020-vision/\" target=\"_self\">NASA 'Optometrists' Verify Mars 2020 Rover's 20/20 Vision</a></div><div class=\"article_teaser_body\">Mars 2020 rover underwent an eye exam after several cameras were installed on the rover.</div></div></div></li>]\n",
      "---------------PROCESSING------------------\n"
     ]
    },
    {
     "name": "stdout",
     "output_type": "stream",
     "text": [
      "{'news_title': \"Nine Finalists Chosen in NASA's Mars 2020 Rover Naming Contest\", 'news_date': 'January 21, 2020', 'news_about': \"Nine finalists have been chosen in the essay contest for K-12 students across U.S. to name NASA's next Mars rover. Now you can help by voting for your favorite. \", 'link': 'https://mars.nasa.govhttp://www.nasa.gov'}\n"
     ]
    }
   ],
   "source": [
    "## initialize browser and latest_news dict\n",
    "browser = init_browser()\n",
    "\n",
    "    \n",
    "## define url and command browser to visit and parse HTML for posts tag   \n",
    "nasa_url= \"https://mars.nasa.gov\"\n",
    "news_url= \"https://mars.nasa.gov/news/\"\n",
    "browser.visit(news_url)\n",
    "    \n",
    "html = browser.html\n",
    "soup = bs(html, \"html.parser\")\n",
    "news = soup.find_all('li', class_='slide')\n",
    "\n",
    "# see result\n",
    "print(f'raw: {news}')\n",
    "print(\"---------------PROCESSING------------------\")\n",
    "\n",
    "## Create empty dict to hold data  \n",
    "latest_news = {}\n",
    "\n",
    "for new in news:\n",
    "    ## Identify and return title of post\n",
    "    title = soup.find('div', class_='content_title').text\n",
    "\n",
    "    ## Identify and return date of post\n",
    "    date = soup.find('div', class_='list_date').text\n",
    "\n",
    "    ## Identify and return description to post\n",
    "    description = soup.find('div', class_='article_teaser_body').text\n",
    "\n",
    "    ## identify and return links to post\n",
    "    link = soup.a['href']\n",
    "\n",
    "## add results to latest_news dictionary\n",
    "latest_news['news_title'] = title\n",
    "latest_news['news_date'] = date\n",
    "latest_news['news_about'] = description\n",
    "latest_news[\"link\"] = f'{nasa_url}{link}'\n",
    "\n",
    "\n",
    "## close browser\n",
    "close_browser(browser)\n",
    "\n",
    "## print out dict to see result\n",
    "print(latest_news)"
   ]
  },
  {
   "cell_type": "markdown",
   "metadata": {},
   "source": [
    "## JPL Maars Spaace Images - Featured Image"
   ]
  },
  {
   "cell_type": "code",
   "execution_count": 7,
   "metadata": {
    "scrolled": true
   },
   "outputs": [
    {
     "data": {
      "text/plain": [
       "{'Featured Image URL': 'https://www.jpl.nasa.gov/spaceimages/images/mediumsize/PIA23170_ip.jpg'}"
      ]
     },
     "execution_count": 7,
     "metadata": {},
     "output_type": "execute_result"
    }
   ],
   "source": [
    "##Initialize browser\n",
    "browser = init_browser()\n",
    "\n",
    "## create empty dictionary to hold results\n",
    "marsimages = {}\n",
    "\n",
    "## define image URL\n",
    "image_url= \"https://www.jpl.nasa.gov/spaceimages/?search=&category=Mars\"\n",
    "browser.visit(image_url)\n",
    "    \n",
    "##  get tags for Featured Image carousel\n",
    "html = browser.html\n",
    "soup = bs(html, \"html.parser\")\n",
    "img_result = soup.find('div', class_='carousel_container')\n",
    "    \n",
    "\n",
    "## Identify and store featured image link\n",
    "image_path = img_result.find('a', class_='button fancybox').get(\"data-fancybox-href\")\n",
    "featured_image_url= f'https://www.jpl.nasa.gov{image_path}'\n",
    "## Dictionary to be inserted as a MongoDB document\n",
    "marsimages[\"Featured Image URL\"] = featured_image_url\n",
    "            \n",
    "## close browser\n",
    "close_browser(browser)\n",
    "\n",
    "## print out results\n",
    "marsimages\n"
   ]
  },
  {
   "cell_type": "markdown",
   "metadata": {},
   "source": [
    "## Latest Mars Weather from Twitter"
   ]
  },
  {
   "cell_type": "code",
   "execution_count": 14,
   "metadata": {},
   "outputs": [
    {
     "name": "stdout",
     "output_type": "stream",
     "text": [
      "raw: None\n",
      "------------PROCESSING---------------\n"
     ]
    },
    {
     "ename": "AttributeError",
     "evalue": "'NoneType' object has no attribute 'find'",
     "output_type": "error",
     "traceback": [
      "\u001b[0;31m---------------------------------------------------------------------------\u001b[0m",
      "\u001b[0;31mAttributeError\u001b[0m                            Traceback (most recent call last)",
      "\u001b[0;32m<ipython-input-14-2e3bc3df2f28>\u001b[0m in \u001b[0;36m<module>\u001b[0;34m\u001b[0m\n\u001b[1;32m     13\u001b[0m \u001b[0mprint\u001b[0m\u001b[0;34m(\u001b[0m\u001b[0;34mf'raw: {w_tweet}'\u001b[0m\u001b[0;34m)\u001b[0m\u001b[0;34m\u001b[0m\u001b[0;34m\u001b[0m\u001b[0m\n\u001b[1;32m     14\u001b[0m \u001b[0mprint\u001b[0m\u001b[0;34m(\u001b[0m\u001b[0;34m\"------------PROCESSING---------------\"\u001b[0m\u001b[0;34m)\u001b[0m\u001b[0;34m\u001b[0m\u001b[0;34m\u001b[0m\u001b[0m\n\u001b[0;32m---> 15\u001b[0;31m \u001b[0mwweather\u001b[0m\u001b[0;34m=\u001b[0m \u001b[0mw_tweet\u001b[0m\u001b[0;34m.\u001b[0m\u001b[0mfind\u001b[0m\u001b[0;34m(\u001b[0m\u001b[0;34m'p'\u001b[0m\u001b[0;34m,\u001b[0m \u001b[0mclass_\u001b[0m\u001b[0;34m=\u001b[0m\u001b[0;34m\"TweetTextSize TweetTextSize--normal js-tweet-text tweet-text\"\u001b[0m\u001b[0;34m)\u001b[0m\u001b[0;34m.\u001b[0m\u001b[0mtext\u001b[0m\u001b[0;34m\u001b[0m\u001b[0;34m\u001b[0m\u001b[0m\n\u001b[0m\u001b[1;32m     16\u001b[0m \u001b[0;34m\u001b[0m\u001b[0m\n\u001b[1;32m     17\u001b[0m \u001b[0;31m## apend to dictionary\u001b[0m\u001b[0;34m\u001b[0m\u001b[0;34m\u001b[0m\u001b[0;34m\u001b[0m\u001b[0m\n",
      "\u001b[0;31mAttributeError\u001b[0m: 'NoneType' object has no attribute 'find'"
     ]
    }
   ],
   "source": [
    "##Initialize browser\n",
    "browser = init_browser()\n",
    "\n",
    "## create empty dictionary to hold results\n",
    "latest_weather = {}\n",
    "    \n",
    "## define twitter weather URL\n",
    "weather_url= \"https://twitter.com/marswxreport?lang=en\"\n",
    "browser.visit(weather_url)\n",
    "html = browser.html\n",
    "soup = bs(html, \"html.parser\")\n",
    "w_tweet = soup.find('div', class_=\"js-tweet-text-container\")\n",
    "print(f'raw: {w_tweet}')\n",
    "print(\"------------PROCESSING---------------\")\n",
    "wweather= w_tweet.find('p', class_=\"TweetTextSize TweetTextSize--normal js-tweet-text tweet-text\").text\n",
    "\n",
    "## apend to dictionary\n",
    "latest_weather[\"Latest Mars Weather\"] = wweather\n",
    "\n",
    "# ##close browser\n",
    "# close_browser(browser)\n",
    "\n",
    "## print out dictionary\n",
    "latest_weather"
   ]
  },
  {
   "cell_type": "markdown",
   "metadata": {},
   "source": [
    "## Mars Facts"
   ]
  },
  {
   "cell_type": "code",
   "execution_count": 19,
   "metadata": {},
   "outputs": [
    {
     "name": "stdout",
     "output_type": "stream",
     "text": [
      "                                          Mars Data\n",
      "Mars Planet Profile                                \n",
      "Equatorial Diameter:                       6,792 km\n",
      "Polar Diameter:                            6,752 km\n",
      "Mass:                 6.39 × 10^23 kg (0.11 Earths)\n",
      "Moons:                          2 (Phobos & Deimos)\n",
      "Orbit Distance:            227,943,824 km (1.38 AU)\n",
      "Orbit Period:                  687 days (1.9 years)\n",
      "Surface Temperature:                   -87 to -5 °C\n",
      "First Record:                     2nd millennium BC\n",
      "Recorded By:                   Egyptian astronomers\n",
      "{'Mars Data': {'Equatorial Diameter:': '6,792 km', 'Polar Diameter:': '6,752 km', 'Mass:': '6.39 × 10^23 kg (0.11 Earths)', 'Moons:': '2 (Phobos & Deimos)', 'Orbit Distance:': '227,943,824 km (1.38 AU)', 'Orbit Period:': '687 days (1.9 years)', 'Surface Temperature:': '-87 to -5 °C', 'First Record:': '2nd millennium BC', 'Recorded By:': 'Egyptian astronomers'}}\n",
      "--------------------------\n",
      "                             Mars Data       Earth Data\n",
      "Mars-Earth Comparison                                  \n",
      "Diameter:                     6,779 km        12,742 km\n",
      "Mass:                  6.39 × 10^23 kg  5.97 × 10^24 kg\n",
      "Moons:                               2                1\n",
      "Distance from Sun:      227,943,824 km   149,598,262 km\n",
      "Length of Year:         687 Earth days      365.24 days\n",
      "Temperature:             -153 to 20 °C      -88 to 58°C\n",
      "{'Mars Data': {'Diameter:': '6,779 km', 'Mass:': '6.39 × 10^23 kg', 'Moons:': '2', 'Distance from Sun:': '227,943,824 km', 'Length of Year:': '687 Earth days', 'Temperature:': '-153 to 20 °C'}, 'Earth Data': {'Diameter:': '12,742 km', 'Mass:': '5.97 × 10^24 kg', 'Moons:': '1', 'Distance from Sun:': '149,598,262 km', 'Length of Year:': '365.24 days', 'Temperature:': '-88 to 58°C'}}\n",
      "------------------------\n",
      "{'mars data': {'Mars Data': {'Equatorial Diameter:': '6,792 km', 'Polar Diameter:': '6,752 km', 'Mass:': '6.39 × 10^23 kg (0.11 Earths)', 'Moons:': '2 (Phobos & Deimos)', 'Orbit Distance:': '227,943,824 km (1.38 AU)', 'Orbit Period:': '687 days (1.9 years)', 'Surface Temperature:': '-87 to -5 °C', 'First Record:': '2nd millennium BC', 'Recorded By:': 'Egyptian astronomers'}}, 'mars earth comparison': {'Mars Data': {'Diameter:': '6,779 km', 'Mass:': '6.39 × 10^23 kg', 'Moons:': '2', 'Distance from Sun:': '227,943,824 km', 'Length of Year:': '687 Earth days', 'Temperature:': '-153 to 20 °C'}, 'Earth Data': {'Diameter:': '12,742 km', 'Mass:': '5.97 × 10^24 kg', 'Moons:': '1', 'Distance from Sun:': '149,598,262 km', 'Length of Year:': '365.24 days', 'Temperature:': '-88 to 58°C'}}}\n"
     ]
    }
   ],
   "source": [
    "mars_facts = {}\n",
    "    \n",
    "facts_url= \"https://space-facts.com/mars/\"\n",
    "tables = pd.read_html(facts_url)\n",
    "# print(f'raw: {tables}')\n",
    "# print(\"-----------------------\")\n",
    "\n",
    "## create DF of mars facts table and convert to HTML\n",
    "marsinfo_df = tables[0]\n",
    "marsinfo_df.columns = [\"Mars Planet Profile\" , \"Mars Data\"]\n",
    "marsinfo_df.set_index(\"Mars Planet Profile\", inplace=True)\n",
    "print(marsinfo_df)\n",
    "marsfacts_df = marsinfo_df.to_html(classes = 'table table-striped')\n",
    "# print(marsfacts_df)\n",
    "marsfacts_data= marsinfo_df.to_dict()\n",
    "print(marsfacts_data)\n",
    "\n",
    "\n",
    "print(\"------------PROCESSING-------------\")\n",
    "##create DF of mars-earth comparison table and convert into HTML\n",
    "comparison_df = tables[1]\n",
    "comparison_df.columns = [\"Mars-Earth Comparison\" , \"Mars Data\",\"Earth Data\"]\n",
    "comparison_df.set_index(\"Mars-Earth Comparison\", inplace=True)\n",
    "print(comparison_df)\n",
    "marsearth_df = comparison_df.to_html(classes = 'table table-striped')\n",
    "marsearth_data= comparison_df.to_dict()\n",
    "# print(marsearth_df)\n",
    "print(marsearth_data)\n",
    "\n",
    "mars_facts[\"mars data\"] = marsfacts_data\n",
    "mars_facts[\"mars earth comparison\"] = marsearth_data\n",
    "print(\"-----------PROCESSING-------------\")\n",
    "print(mars_facts)"
   ]
  },
  {
   "cell_type": "markdown",
   "metadata": {},
   "source": [
    "## Mars Hemisphere"
   ]
  },
  {
   "cell_type": "code",
   "execution_count": null,
   "metadata": {},
   "outputs": [],
   "source": [
    "# ## create empty dict to hold data\n",
    "# mars_hemispheres = {}\n",
    "   \n",
    "# ##initiate browser; define URL and visit in browser\n",
    "# browser = init_browser()\n",
    "# hemi_url = \"https://astrogeology.usgs.gov/search/results?q=hemisphere+enhanced&k1=target&v1=Mars\"\n",
    "# head_url = \"https://astrogeology.usgs.gov\"\n",
    "# browser.visit(hemi_url)\n",
    "\n",
    "# ##parse and scrape hemisphere info and image links\n",
    "# html = browser.html\n",
    "# soup = bs(html, \"html.parser\")\n",
    "# hemi_results = soup.find('div', class_=\"collapsible results\")\n",
    "# hemispheres = hemi_results.find_all('div', class_=\"item\")\n",
    "# print(hemispheres)"
   ]
  },
  {
   "cell_type": "code",
   "execution_count": null,
   "metadata": {},
   "outputs": [],
   "source": [
    "# ## Iterate through hemispheres list of results\n",
    "# for hemi in hemispheres:\n",
    "#     img_title = hemi.find('h3').text\n",
    "#     print(img_title)\n",
    "#     mars_hemispheres[\"Title\"] = img_title\n",
    "#     img_href = hemi.find('a', class_=\"itemLink product-item\")['href']\n",
    "#     hemi_img_url= (head_url)+(image_href)\n",
    "#     print(hemi_img_url)\n",
    "    \n",
    "# #     browser.visit(hemi_img_url)\n",
    "# ## Dictionary to be inserted as a MongoDB document\n",
    "# marsimages[\"Featured Image URL\"] = featured_image_url"
   ]
  },
  {
   "cell_type": "code",
   "execution_count": 28,
   "metadata": {},
   "outputs": [
    {
     "name": "stdout",
     "output_type": "stream",
     "text": [
      "raw: [<div class=\"item\"><a class=\"itemLink product-item\" href=\"/search/map/Mars/Viking/cerberus_enhanced\"><img alt=\"Cerberus Hemisphere Enhanced thumbnail\" class=\"thumb\" src=\"/cache/images/dfaf3849e74bf973b59eb50dab52b583_cerberus_enhanced.tif_thumb.png\"/></a><div class=\"description\"><a class=\"itemLink product-item\" href=\"/search/map/Mars/Viking/cerberus_enhanced\"><h3>Cerberus Hemisphere Enhanced</h3></a><span class=\"subtitle\" style=\"float:left\">image/tiff 21 MB</span><span class=\"pubDate\" style=\"float:right\"></span><br/><p>Mosaic of the Cerberus hemisphere of Mars projected into point perspective, a view similar to that which one would see from a spacecraft. This mosaic is composed of 104 Viking Orbiter images acquired…</p></div> <!-- end description --></div>, <div class=\"item\"><a class=\"itemLink product-item\" href=\"/search/map/Mars/Viking/schiaparelli_enhanced\"><img alt=\"Schiaparelli Hemisphere Enhanced thumbnail\" class=\"thumb\" src=\"/cache/images/7677c0a006b83871b5a2f66985ab5857_schiaparelli_enhanced.tif_thumb.png\"/></a><div class=\"description\"><a class=\"itemLink product-item\" href=\"/search/map/Mars/Viking/schiaparelli_enhanced\"><h3>Schiaparelli Hemisphere Enhanced</h3></a><span class=\"subtitle\" style=\"float:left\">image/tiff 35 MB</span><span class=\"pubDate\" style=\"float:right\"></span><br/><p>Mosaic of the Schiaparelli hemisphere of Mars projected into point perspective, a view similar to that which one would see from a spacecraft. The images were acquired in 1980 during early northern…</p></div> <!-- end description --></div>, <div class=\"item\"><a class=\"itemLink product-item\" href=\"/search/map/Mars/Viking/syrtis_major_enhanced\"><img alt=\"Syrtis Major Hemisphere Enhanced thumbnail\" class=\"thumb\" src=\"/cache/images/aae41197e40d6d4f3ea557f8cfe51d15_syrtis_major_enhanced.tif_thumb.png\"/></a><div class=\"description\"><a class=\"itemLink product-item\" href=\"/search/map/Mars/Viking/syrtis_major_enhanced\"><h3>Syrtis Major Hemisphere Enhanced</h3></a><span class=\"subtitle\" style=\"float:left\">image/tiff 25 MB</span><span class=\"pubDate\" style=\"float:right\"></span><br/><p>Mosaic of the Syrtis Major hemisphere of Mars projected into point perspective, a view similar to that which one would see from a spacecraft. This mosaic is composed of about 100 red and violet…</p></div> <!-- end description --></div>, <div class=\"item\"><a class=\"itemLink product-item\" href=\"/search/map/Mars/Viking/valles_marineris_enhanced\"><img alt=\"Valles Marineris Hemisphere Enhanced thumbnail\" class=\"thumb\" src=\"/cache/images/04085d99ec3713883a9a57f42be9c725_valles_marineris_enhanced.tif_thumb.png\"/></a><div class=\"description\"><a class=\"itemLink product-item\" href=\"/search/map/Mars/Viking/valles_marineris_enhanced\"><h3>Valles Marineris Hemisphere Enhanced</h3></a><span class=\"subtitle\" style=\"float:left\">image/tiff 27 MB</span><span class=\"pubDate\" style=\"float:right\"></span><br/><p>Mosaic of the Valles Marineris hemisphere of Mars projected into point perspective, a view similar to that which one would see from a spacecraft. The distance is 2500 kilometers from the surface of…</p></div> <!-- end description --></div>]\n",
      "------------PROCESSING------------------\n",
      "[{'title': 'Cerberus Hemisphere Enhanced', 'img_url': 'https://astrogeology.usgs.gov/cache/images/cfa62af2557222a02478f1fcd781d445_cerberus_enhanced.tif_full.jpg'}, {'title': 'Schiaparelli Hemisphere Enhanced', 'img_url': 'https://astrogeology.usgs.gov/cache/images/3cdd1cbf5e0813bba925c9030d13b62e_schiaparelli_enhanced.tif_full.jpg'}, {'title': 'Syrtis Major Hemisphere Enhanced', 'img_url': 'https://astrogeology.usgs.gov/cache/images/ae209b4e408bb6c3e67b6af38168cf28_syrtis_major_enhanced.tif_full.jpg'}, {'title': 'Valles Marineris Hemisphere Enhanced', 'img_url': 'https://astrogeology.usgs.gov/cache/images/7cf2da4bf549ed01c17f206327be4db7_valles_marineris_enhanced.tif_full.jpg'}]\n"
     ]
    }
   ],
   "source": [
    "## create empty dict to hold data\n",
    "mars_hemispheres = []\n",
    "   \n",
    "##initiate browser; define URL and visit in browser\n",
    "browser = init_browser()\n",
    "hemi_url = \"https://astrogeology.usgs.gov/search/results?q=hemisphere+enhanced&k1=target&v1=Mars\"\n",
    "head_url = \"https://astrogeology.usgs.gov\"\n",
    "browser.visit(hemi_url)\n",
    "\n",
    "\n",
    "##parse and scrape hemisphere info and image links\n",
    "html = browser.html\n",
    "soup = bs(html, \"html.parser\")\n",
    "hemispheres = soup.find_all('div', class_=\"item\")\n",
    "print(f'raw: {hemispheres}')\n",
    "print(\"------------PROCESSING------------------\")\n",
    "    \n",
    "for hemi in hemispheres:\n",
    "#     browser.click_link_by_partial_href('/search/map/Mars/')\n",
    "#     hemi_results = soup.find('div', class_=\"collapsible results\")\n",
    "    img_title = hemi.find('h3').text\n",
    "#     print(img_title)\n",
    "    hemi_img_url = head_url + hemi.find('a', class_=\"itemLink product-item\")[\"href\"]\n",
    "#     hemi_img_url= f'{head_url}{img_href}'\n",
    "## visit img url to get href for full-sized image\n",
    "    browser.visit(hemi_img_url)\n",
    "    url_to_full= browser.html\n",
    "    soup = bs(url_to_full, \"html.parser\")\n",
    "    full_img_url = head_url + soup.find(\"img\", class_=\"wide-image\")[\"src\"]\n",
    "    mars_hemispheres.append({\"title\": img_title, \"img_url\": full_img_url})\n",
    "\n",
    "##close browser\n",
    "close_browser(browser)\n",
    "\n",
    "print(mars_hemispheres)"
   ]
  },
  {
   "cell_type": "code",
   "execution_count": null,
   "metadata": {},
   "outputs": [],
   "source": []
  }
 ],
 "metadata": {
  "kernelspec": {
   "display_name": "Python 3",
   "language": "python",
   "name": "python3"
  },
  "language_info": {
   "codemirror_mode": {
    "name": "ipython",
    "version": 3
   },
   "file_extension": ".py",
   "mimetype": "text/x-python",
   "name": "python",
   "nbconvert_exporter": "python",
   "pygments_lexer": "ipython3",
   "version": "3.7.3"
  }
 },
 "nbformat": 4,
 "nbformat_minor": 2
}

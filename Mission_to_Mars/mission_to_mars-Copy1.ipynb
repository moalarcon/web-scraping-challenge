{
 "cells": [
  {
   "cell_type": "code",
   "execution_count": 23,
   "metadata": {},
   "outputs": [],
   "source": [
    "from splinter import Browser\n",
    "from bs4 import BeautifulSoup as bs\n",
    "import numpy as np\n",
    "import pandas as pd\n",
    "from selenium import webdriver\n",
    "import requests as req"
   ]
  },
  {
   "cell_type": "code",
   "execution_count": 24,
   "metadata": {
    "scrolled": true
   },
   "outputs": [],
   "source": [
    "#def init_browser():\n",
    "    # @NOTE: Replace the path with your actual path to the chromedriver\n",
    "executable_path = {\"executable_path\":\"/usr/local/bin/chromedriver\"}\n",
    "browser = Browser(\"chrome\", **executable_path, headless=False)"
   ]
  },
  {
   "cell_type": "code",
   "execution_count": 3,
   "metadata": {},
   "outputs": [],
   "source": [
    "def close_brower(browser):\n",
    "    browser.quit()"
   ]
  },
  {
   "cell_type": "code",
   "execution_count": 4,
   "metadata": {},
   "outputs": [],
   "source": [
    "def scrape():\n",
    "## initialize and populate mars dict to hold all scraping results \n",
    "    mars = {}\n",
    "    mars[\"news_data\"] = news()\n",
    "    mars[\"featured_image\"] = images()\n",
    "    mars[\"weather_data\"] = weather()\n",
    "    mars[\"mars_facts\"] = facts()"
   ]
  },
  {
   "cell_type": "markdown",
   "metadata": {},
   "source": [
    "## Scrape Latest Mars News"
   ]
  },
  {
   "cell_type": "code",
   "execution_count": 5,
   "metadata": {},
   "outputs": [
    {
     "data": {
      "text/plain": [
       "<li class=\"slide\"><div class=\"image_and_description_container\"><a href=\"/news/8588/nine-finalists-chosen-in-nasas-mars-2020-rover-naming-contest/\" target=\"_self\"><div class=\"rollover_description\"><div class=\"rollover_description_inner\">Nine finalists have been chosen in the essay contest for K-12 students across U.S. to name NASA's next Mars rover. Now you can help by voting for your favorite. </div><div class=\"overlay_arrow\"><img alt=\"More\" src=\"/assets/overlay-arrow.png\"/></div></div><div class=\"list_image\"><img alt=\"This illustration depicts NASA's next Mars rover, which launches in 2020.\" src=\"/system/news_items/list_view_images/8588_name20190625-320x240.jpg\"/></div><div class=\"bottom_gradient\"><div><h3>Nine Finalists Chosen in NASA's Mars 2020 Rover Naming Contest</h3></div></div></a><div class=\"list_text\"><div class=\"list_date\">January 21, 2020</div><div class=\"content_title\"><a href=\"/news/8588/nine-finalists-chosen-in-nasas-mars-2020-rover-naming-contest/\" target=\"_self\">Nine Finalists Chosen in NASA's Mars 2020 Rover Naming Contest</a></div><div class=\"article_teaser_body\">Nine finalists have been chosen in the essay contest for K-12 students across U.S. to name NASA's next Mars rover. Now you can help by voting for your favorite. </div></div></div></li>"
      ]
     },
     "execution_count": 5,
     "metadata": {},
     "output_type": "execute_result"
    }
   ],
   "source": [
    "\n",
    "    \n",
    "## initialize browser and latest_news dict\n",
    "browser = init_browser()\n",
    "\n",
    "    \n",
    "## define url and command browser to visit and parse HTML for posts tag   \n",
    "nasa_url= \"https://mars.nasa.gov\"\n",
    "news_url= \"https://mars.nasa.gov/news/\"\n",
    "browser.visit(news_url)\n",
    "    \n",
    "html = browser.html\n",
    "soup = bs(html, \"html.parser\")\n",
    "news = soup.find('li', class_='slide')\n",
    "\n",
    "# see result\n",
    "news"
   ]
  },
  {
   "cell_type": "code",
   "execution_count": 6,
   "metadata": {},
   "outputs": [
    {
     "data": {
      "text/plain": [
       "{'news_title': \"Nine Finalists Chosen in NASA's Mars 2020 Rover Naming Contest\",\n",
       " 'news_date': 'January 21, 2020',\n",
       " 'news_about': \"Nine finalists have been chosen in the essay contest for K-12 students across U.S. to name NASA's next Mars rover. Now you can help by voting for your favorite. \",\n",
       " 'link': 'https://mars.nasa.gov/news/8588/nine-finalists-chosen-in-nasas-mars-2020-rover-naming-contest/'}"
      ]
     },
     "execution_count": 6,
     "metadata": {},
     "output_type": "execute_result"
    }
   ],
   "source": [
    "## Create empty dict to hold data  \n",
    "latest_news = {}\n",
    "\n",
    "## Identify and return title of post\n",
    "title = news.find('div', class_='content_title').text\n",
    "\n",
    "## Identify and return date of post\n",
    "date = news.find('div', class_='list_date').text\n",
    "\n",
    "## Identify and return description to post\n",
    "description = news.find('div', class_='article_teaser_body').text\n",
    "\n",
    "## identify and return links to post\n",
    "link = news.a['href']\n",
    "\n",
    "## add results to latest_news dictionary\n",
    "        \n",
    "latest_news['news_title'] = title\n",
    "latest_news['news_date'] = date\n",
    "latest_news['news_about'] = description\n",
    "latest_news[\"link\"] = f'{nasa_url}{link}'\n",
    "\n",
    "\n",
    "## close browser\n",
    "#close_browser(browser)\n",
    "\n",
    "## print out dict to see result\n",
    "latest_news"
   ]
  },
  {
   "cell_type": "markdown",
   "metadata": {},
   "source": [
    "## JPL Maars Spaace Images - Featured Image"
   ]
  },
  {
   "cell_type": "code",
   "execution_count": 7,
   "metadata": {
    "scrolled": true
   },
   "outputs": [
    {
     "data": {
      "text/plain": [
       "{'Featured Image URL': 'https://www.jpl.nasa.gov/spaceimages/images/mediumsize/PIA00046_ip.jpg'}"
      ]
     },
     "execution_count": 7,
     "metadata": {},
     "output_type": "execute_result"
    }
   ],
   "source": [
    "##Initialize browser\n",
    "browser = init_browser()\n",
    "\n",
    "## create empty dictionary to hold results\n",
    "marsimages = {}\n",
    "\n",
    "## define image URL\n",
    "image_url= \"https://www.jpl.nasa.gov/spaceimages/?search=&category=Mars\"\n",
    "browser.visit(image_url)\n",
    "    \n",
    "##  get tags for Featured Image carousel\n",
    "html = browser.html\n",
    "soup = bs(html, \"html.parser\")\n",
    "img_result = soup.find('div', class_='carousel_container')\n",
    "    \n",
    "\n",
    "## Identify and store featured image link\n",
    "image_path = img_result.find('a', class_='button fancybox').get(\"data-fancybox-href\")\n",
    "featured_image_url= f'https://www.jpl.nasa.gov{image_path}'\n",
    "## Dictionary to be inserted as a MongoDB document\n",
    "marsimages[\"Featured Image URL\"] = featured_image_url\n",
    "            \n",
    "## close browser\n",
    "# close_browser(browser)\n",
    "\n",
    "## print out results\n",
    "marsimages\n"
   ]
  },
  {
   "cell_type": "markdown",
   "metadata": {},
   "source": [
    "## Latest Mars Weather from Twitter"
   ]
  },
  {
   "cell_type": "code",
   "execution_count": 25,
   "metadata": {},
   "outputs": [],
   "source": [
    "weather_url= \"https://twitter.com/marswxreport?lang=en\"\n",
    "browser.visit(weather_url)"
   ]
  },
  {
   "cell_type": "code",
   "execution_count": 26,
   "metadata": {},
   "outputs": [],
   "source": [
    "html = browser.html\n",
    "soup = bs(html, \"html.parser\")"
   ]
  },
  {
   "cell_type": "code",
   "execution_count": 27,
   "metadata": {},
   "outputs": [
    {
     "name": "stdout",
     "output_type": "stream",
     "text": [
      "InSight sol 411 (2020-01-22) low -96.4ºC (-141.4ºF) high -16.7ºC (1.9ºF)\n",
      "winds from the S at 5.6 m/s (12.6 mph) gusting to 22.7 m/s (50.8 mph)\n",
      "pressure at 6.30 hPapic.twitter.com/nogRqYba3I\n"
     ]
    }
   ],
   "source": [
    "wweather = soup.find('p', class_=\"TweetTextSize TweetTextSize--normal js-tweet-text tweet-text\").text\n",
    "print(wweather)"
   ]
  },
  {
   "cell_type": "code",
   "execution_count": 31,
   "metadata": {},
   "outputs": [
    {
     "name": "stdout",
     "output_type": "stream",
     "text": [
      "InSight sol 411 (2020-01-22) low -96.4ºC (-141.4ºF) high -16.7ºC (1.9ºF)\n",
      "winds from the S at 5.6 m/s (12.6 mph) gusting to 22.7 m/s (50.8 mph)\n",
      "pressure at 6.30 hPapic.twitter.com/nogRqYba3I\n"
     ]
    },
    {
     "data": {
      "text/plain": [
       "{'Latest Mars Weather': 'InSight sol 411 (2020-01-22) low -96.4ºC (-141.4ºF) high -16.7ºC (1.9ºF)\\nwinds from the S at 5.6 m/s (12.6 mph) gusting to 22.7 m/s (50.8 mph)\\npressure at 6.30 hPapic.twitter.com/nogRqYba3I'}"
      ]
     },
     "execution_count": 31,
     "metadata": {},
     "output_type": "execute_result"
    }
   ],
   "source": [
    "##Initialize browser\n",
    "#browser = init_browser()\n",
    "browser.visit(weather_url)\n",
    "## create empty dictionary to hold results\n",
    "latest_weather = {}\n",
    "    \n",
    "## define twitter weather URL\n",
    "weather_url= \"https://twitter.com/marswxreport?lang=en\"\n",
    "browser.visit(weather_url)\n",
    "    \n",
    "html = browser.html\n",
    "soup = bs(html, \"html.parser\")\n",
    "wweather = soup.find('p', class_=\"TweetTextSize TweetTextSize--normal js-tweet-text tweet-text\").text\n",
    "print(wweather)\n",
    "\n",
    "latest_weather[\"Latest Mars Weather\"] = wweather\n",
    "\n",
    "latest_weather"
   ]
  },
  {
   "cell_type": "markdown",
   "metadata": {},
   "source": [
    "## Mars Facts"
   ]
  },
  {
   "cell_type": "code",
   "execution_count": 44,
   "metadata": {},
   "outputs": [
    {
     "name": "stdout",
     "output_type": "stream",
     "text": [
      "[                      0                              1\n",
      "0  Equatorial Diameter:                       6,792 km\n",
      "1       Polar Diameter:                       6,752 km\n",
      "2                 Mass:  6.39 × 10^23 kg (0.11 Earths)\n",
      "3                Moons:            2 (Phobos & Deimos)\n",
      "4       Orbit Distance:       227,943,824 km (1.38 AU)\n",
      "5         Orbit Period:           687 days (1.9 years)\n",
      "6  Surface Temperature:                   -87 to -5 °C\n",
      "7         First Record:              2nd millennium BC\n",
      "8          Recorded By:           Egyptian astronomers,   Mars - Earth Comparison             Mars            Earth\n",
      "0               Diameter:         6,779 km        12,742 km\n",
      "1                   Mass:  6.39 × 10^23 kg  5.97 × 10^24 kg\n",
      "2                  Moons:                2                1\n",
      "3      Distance from Sun:   227,943,824 km   149,598,262 km\n",
      "4         Length of Year:   687 Earth days      365.24 days\n",
      "5            Temperature:    -153 to 20 °C      -88 to 58°C,                       0                              1\n",
      "0  Equatorial Diameter:                       6,792 km\n",
      "1       Polar Diameter:                       6,752 km\n",
      "2                 Mass:  6.39 × 10^23 kg (0.11 Earths)\n",
      "3                Moons:            2 (Phobos & Deimos)\n",
      "4       Orbit Distance:       227,943,824 km (1.38 AU)\n",
      "5         Orbit Period:           687 days (1.9 years)\n",
      "6  Surface Temperature:                   -87 to -5 °C\n",
      "7         First Record:              2nd millennium BC\n",
      "8          Recorded By:           Egyptian astronomers]\n"
     ]
    }
   ],
   "source": [
    "browser = init_browser()\n",
    "mars_facts = {}\n",
    "    \n",
    "facts_url= \"https://space-facts.com/mars/\"\n",
    "tables = pd.read_html(facts_url)\n",
    "print(tables)\n",
    "\n",
    "basicinfo_df = tables[0]\n",
    "comparison_df = tables[1]\n",
    "comparison_df.columns = [\"Mars-Earth Comparison\" , \"Mars\",\"Earth\"]\n",
    "marsfacts_df = tables[2]\n",
    "marsfacts_df.columns = [\"Mars Planet Profile\" , \"Data\"]"
   ]
  },
  {
   "cell_type": "code",
   "execution_count": 45,
   "metadata": {},
   "outputs": [
    {
     "name": "stdout",
     "output_type": "stream",
     "text": [
      "<table border=\"1\" class=\"dataframe table table-striped\">\n",
      "  <thead>\n",
      "    <tr style=\"text-align: right;\">\n",
      "      <th></th>\n",
      "      <th>Mars-Earth Comparison</th>\n",
      "      <th>Mars</th>\n",
      "      <th>Earth</th>\n",
      "    </tr>\n",
      "  </thead>\n",
      "  <tbody>\n",
      "    <tr>\n",
      "      <th>0</th>\n",
      "      <td>Diameter:</td>\n",
      "      <td>6,779 km</td>\n",
      "      <td>12,742 km</td>\n",
      "    </tr>\n",
      "    <tr>\n",
      "      <th>1</th>\n",
      "      <td>Mass:</td>\n",
      "      <td>6.39 × 10^23 kg</td>\n",
      "      <td>5.97 × 10^24 kg</td>\n",
      "    </tr>\n",
      "    <tr>\n",
      "      <th>2</th>\n",
      "      <td>Moons:</td>\n",
      "      <td>2</td>\n",
      "      <td>1</td>\n",
      "    </tr>\n",
      "    <tr>\n",
      "      <th>3</th>\n",
      "      <td>Distance from Sun:</td>\n",
      "      <td>227,943,824 km</td>\n",
      "      <td>149,598,262 km</td>\n",
      "    </tr>\n",
      "    <tr>\n",
      "      <th>4</th>\n",
      "      <td>Length of Year:</td>\n",
      "      <td>687 Earth days</td>\n",
      "      <td>365.24 days</td>\n",
      "    </tr>\n",
      "    <tr>\n",
      "      <th>5</th>\n",
      "      <td>Temperature:</td>\n",
      "      <td>-153 to 20 °C</td>\n",
      "      <td>-88 to 58°C</td>\n",
      "    </tr>\n",
      "  </tbody>\n",
      "</table>\n"
     ]
    }
   ],
   "source": [
    "marsearth_df = comparison_df.to_html(classes = 'table table-striped')\n",
    "print(marsearth_df)"
   ]
  },
  {
   "cell_type": "code",
   "execution_count": 46,
   "metadata": {},
   "outputs": [
    {
     "name": "stdout",
     "output_type": "stream",
     "text": [
      "<table border=\"1\" class=\"dataframe table table-striped\">\n",
      "  <thead>\n",
      "    <tr style=\"text-align: right;\">\n",
      "      <th></th>\n",
      "      <th>Mars Planet Profile</th>\n",
      "      <th>Data</th>\n",
      "    </tr>\n",
      "  </thead>\n",
      "  <tbody>\n",
      "    <tr>\n",
      "      <th>0</th>\n",
      "      <td>Equatorial Diameter:</td>\n",
      "      <td>6,792 km</td>\n",
      "    </tr>\n",
      "    <tr>\n",
      "      <th>1</th>\n",
      "      <td>Polar Diameter:</td>\n",
      "      <td>6,752 km</td>\n",
      "    </tr>\n",
      "    <tr>\n",
      "      <th>2</th>\n",
      "      <td>Mass:</td>\n",
      "      <td>6.39 × 10^23 kg (0.11 Earths)</td>\n",
      "    </tr>\n",
      "    <tr>\n",
      "      <th>3</th>\n",
      "      <td>Moons:</td>\n",
      "      <td>2 (Phobos &amp; Deimos)</td>\n",
      "    </tr>\n",
      "    <tr>\n",
      "      <th>4</th>\n",
      "      <td>Orbit Distance:</td>\n",
      "      <td>227,943,824 km (1.38 AU)</td>\n",
      "    </tr>\n",
      "    <tr>\n",
      "      <th>5</th>\n",
      "      <td>Orbit Period:</td>\n",
      "      <td>687 days (1.9 years)</td>\n",
      "    </tr>\n",
      "    <tr>\n",
      "      <th>6</th>\n",
      "      <td>Surface Temperature:</td>\n",
      "      <td>-87 to -5 °C</td>\n",
      "    </tr>\n",
      "    <tr>\n",
      "      <th>7</th>\n",
      "      <td>First Record:</td>\n",
      "      <td>2nd millennium BC</td>\n",
      "    </tr>\n",
      "    <tr>\n",
      "      <th>8</th>\n",
      "      <td>Recorded By:</td>\n",
      "      <td>Egyptian astronomers</td>\n",
      "    </tr>\n",
      "  </tbody>\n",
      "</table>\n"
     ]
    }
   ],
   "source": [
    "marsfacts_df = marsfacts_df.to_html(classes = 'table table-striped')\n",
    "print(marsfacts_df)"
   ]
  },
  {
   "cell_type": "code",
   "execution_count": null,
   "metadata": {},
   "outputs": [],
   "source": []
  },
  {
   "cell_type": "code",
   "execution_count": null,
   "metadata": {},
   "outputs": [],
   "source": []
  }
 ],
 "metadata": {
  "kernelspec": {
   "display_name": "Python 3",
   "language": "python",
   "name": "python3"
  },
  "language_info": {
   "codemirror_mode": {
    "name": "ipython",
    "version": 3
   },
   "file_extension": ".py",
   "mimetype": "text/x-python",
   "name": "python",
   "nbconvert_exporter": "python",
   "pygments_lexer": "ipython3",
   "version": "3.7.3"
  }
 },
 "nbformat": 4,
 "nbformat_minor": 2
}
